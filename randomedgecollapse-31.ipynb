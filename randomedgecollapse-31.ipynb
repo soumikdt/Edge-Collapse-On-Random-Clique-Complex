{
  "cells": [
    {
      "cell_type": "markdown",
      "metadata": {
        "id": "vM2wh6pv1ng4"
      },
      "source": [
        "we want to calculate the core of the flag complex of a random Erdos-Renyi graph under edge collapse.\n",
        "It would be done phase by phase."
      ]
    },
    {
      "cell_type": "code",
      "execution_count": null,
      "metadata": {
        "id": "rWcB8xY01ukY"
      },
      "outputs": [],
      "source": [
        "from math import *\n",
        "import numpy as np\n",
        "import networkx as nx\n",
        "import random\n",
        "import matplotlib.pyplot as plt\n",
        "from matplotlib.patches import Polygon\n",
        "import csv"
      ]
    },
    {
      "cell_type": "markdown",
      "metadata": {
        "id": "zMY9PgRq51_8"
      },
      "source": [
        "Get stat of a graph"
      ]
    },
    {
      "cell_type": "code",
      "execution_count": null,
      "metadata": {
        "id": "IgqAOzlx54Wr"
      },
      "outputs": [],
      "source": [
        "def stat(G):\n",
        "  n=G.number_of_nodes()\n",
        "  m=G.number_of_edges()\n",
        "  cliques=list(nx.enumerate_all_cliques(G))\n",
        "  cliques3 = [clq for clq in cliques if len(clq) == 3]\n",
        "  tri=len(cliques3)\n",
        "  cliques4 = [clq for clq in cliques if len(clq) == 4]\n",
        "  tet=len(cliques4)\n",
        "  cliques5 = [clq for clq in cliques if len(clq) == 5]\n",
        "  K5=len(cliques5)\n",
        "  return([n, m, tri, tet, K5])\n"
      ]
    },
    {
      "cell_type": "markdown",
      "metadata": {
        "id": "eqBVAOGA2Ece"
      },
      "source": [
        "defining the main core function for clicque/flag complex."
      ]
    },
    {
      "cell_type": "code",
      "execution_count": null,
      "metadata": {
        "id": "1Pt2K-KY13tP"
      },
      "outputs": [],
      "source": [
        "def ECORE(G):\n",
        "\tmaxiter = 100\n",
        "\titr=0\n",
        "\tGSTAT = []\n",
        "\t####initiate the iterative pruning phases with a bound on max_iter####\n",
        "\twhile itr<=maxiter:\n",
        "\n",
        "\t\tgstat = [itr]\n",
        "\t\tgstat += stat(G)\n",
        "\t\t####this part marks the dominated vertices####\n",
        "\t\tD=[]\t\t#intial list of dominated edges at the starting of theeach phases.\n",
        "\t\tfor i in G.edges:\t\t#considering all the possible edges\n",
        "\t\t\tNI= list(nx.common_neighbors(G, i[0], i[1]))   #list neighbors of the edge i\n",
        "\t\t\tfor j in NI: \t#searching for dominating vertices in the common neighbors\n",
        "\t\t\t\tNJ=list(G.neighbors(j))\n",
        "\t\t\t\tNJ.append(j)\n",
        "\t\t\t\tif set(NI).issubset(NJ): \t#checking for a dominating neighbors\n",
        "\t\t\t\t\tD.append(i)\n",
        "\t\t\t\t\tbreak \t#if found stop, go to next i\n",
        "\t\t\t\telse:\n",
        "\t\t\t\t\tpass\n",
        "\n",
        "\n",
        "\n",
        "\t\t####all dominate edges are marked at this point####\n",
        "\n",
        "\t\t##print(\"D\", D)\n",
        "\t\trandom.shuffle(D) ##random shuffling the order of deletion\n",
        "\n",
        "\t\t####now removing dominated edges from G one by one####\n",
        "\t\tE=[]\n",
        "\t\tfor e in D:\n",
        "\t\t\tNI2= list(nx.common_neighbors(G, e[0], e[1]))\n",
        "\t\t\tfor j in NI2:\n",
        "\t\t\t\tNJ2=list(G.neighbors(j))\n",
        "\t\t\t\tNJ2.append(j)\n",
        "\t\t\t\tif set(NI2).issubset(NJ2): \t#deleting the dominating vertices whenever possible\n",
        "\t\t\t\t\tG.remove_edge(e[0],e[1])\n",
        "\t\t\t\t\tE.append(e)\n",
        "\t\t\t\t\tbreak \t#if found stop, go to next i\n",
        "\t\t\t\telse:\n",
        "\t\t\t\t\tpass\n",
        "\n",
        "\t\tgstat += [len(D),len(E)]\n",
        "\t\tGSTAT += gstat\n",
        "\t\tif len(D)==0: \t#stop process if no more dominated edges\n",
        "\t\t\tbreak\n",
        "\n",
        "\t\titr+=1\t\t#go for next phase\n",
        "\t####pruning phases are completed####\n",
        "\tGSTAT.insert(0, itr)\n",
        "\n",
        "\treturn(GSTAT)\n"
      ]
    },
    {
      "cell_type": "markdown",
      "metadata": {
        "id": "P-TXGrUK3sDz"
      },
      "source": [
        "defining the theoretical iterative tree functions"
      ]
    },
    {
      "cell_type": "code",
      "execution_count": null,
      "metadata": {
        "id": "YJeFWyii3tq-"
      },
      "outputs": [],
      "source": [
        "def f(x,c):\n",
        "\treturn exp(-1*(c*(1-x))**2)  #c**2\n",
        "\n",
        "def gamma(c):\n",
        "  maxt = 100\n",
        "  z=0\n",
        "  for i in range(1,maxt):\n",
        "    z=f(z,c)\n",
        "  return(z, 1-f(z,c)-(c**2)*z*((1-z)**2), 1- ((c**2)/3.0)*(1-(1-z)**3))#(z,upperbound,lowerbound)\n",
        "\n",
        "def expedge(n,c):\n",
        "\treturn(0.5*c*(sqrt(n))*(n-1))"
      ]
    },
    {
      "cell_type": "markdown",
      "metadata": {
        "id": "1L4MFF4c4P-g"
      },
      "source": [
        "Create a ER graph with input parameters"
      ]
    },
    {
      "cell_type": "code",
      "execution_count": null,
      "metadata": {
        "id": "z13TE2hq4R1f"
      },
      "outputs": [],
      "source": [
        "def randgraph(n,c):\n",
        "\tp=c/sqrt(n)\n",
        "\tG=nx.fast_gnp_random_graph(n, p, seed=None, directed=False)\n",
        "\treturn(G)\n"
      ]
    },
    {
      "cell_type": "markdown",
      "metadata": {
        "id": "K_in8cIbG_Tp"
      },
      "source": [
        "Running the experiment"
      ]
    },
    {
      "cell_type": "code",
      "execution_count": null,
      "metadata": {
        "colab": {
          "base_uri": "https://localhost:8080/"
        },
        "id": "WhZ8i559JkYZ",
        "outputId": "3a0d986d-715e-42df-93cb-9fc5d8d29ed7"
      },
      "outputs": [
        {
          "name": "stdout",
          "output_type": "stream",
          "text": [
            "[16, 0, 100, 834, 778, 71, 0, 166, 152, 1, 100, 682, 590, 35, 0, 79, 72, 2, 100, 610, 507, 24, 0, 41, 35, 3, 100, 575, 470, 22, 0, 29, 26, 4, 100, 549, 444, 22, 0, 20, 20, 5, 100, 529, 423, 21, 0, 19, 19, 6, 100, 510, 403, 20, 0, 14, 12, 7, 100, 498, 391, 20, 0, 10, 10, 8, 100, 488, 380, 19, 0, 9, 7, 9, 100, 481, 373, 19, 0, 4, 4, 10, 100, 477, 369, 19, 0, 5, 5, 11, 100, 472, 364, 19, 0, 3, 3, 12, 100, 469, 361, 19, 0, 2, 2, 13, 100, 467, 359, 19, 0, 2, 2, 14, 100, 465, 357, 19, 0, 2, 2, 15, 100, 463, 355, 19, 0, 1, 1, 16, 100, 462, 353, 18, 0, 0, 0]\n",
            "[11, 0, 200, 2323, 2153, 167, 1, 498, 456, 1, 200, 1867, 1605, 74, 0, 174, 162, 2, 200, 1705, 1422, 53, 0, 92, 87, 3, 200, 1618, 1331, 49, 0, 60, 57, 4, 200, 1561, 1267, 42, 0, 34, 32, 5, 200, 1529, 1233, 40, 0, 21, 21, 6, 200, 1508, 1210, 38, 0, 11, 11, 7, 200, 1497, 1198, 37, 0, 3, 3, 8, 200, 1494, 1195, 37, 0, 1, 1, 9, 200, 1493, 1194, 37, 0, 1, 1, 10, 200, 1492, 1193, 37, 0, 1, 1, 11, 200, 1491, 1192, 37, 0, 0, 0]\n",
            "[14, 0, 300, 4421, 4274, 302, 1, 873, 805, 1, 300, 3616, 3332, 164, 0, 300, 284, 2, 300, 3332, 3009, 125, 0, 160, 153, 3, 300, 3179, 2845, 114, 0, 86, 81, 4, 300, 3098, 2757, 107, 0, 63, 57, 5, 300, 3041, 2695, 102, 0, 35, 34, 6, 300, 3007, 2660, 101, 0, 14, 13, 7, 300, 2994, 2646, 100, 0, 10, 10, 8, 300, 2984, 2636, 100, 0, 10, 10, 9, 300, 2974, 2626, 100, 0, 12, 10, 10, 300, 2964, 2614, 98, 0, 6, 6, 11, 300, 2958, 2607, 97, 0, 2, 2, 12, 300, 2956, 2605, 97, 0, 1, 1, 13, 300, 2955, 2604, 97, 0, 1, 1, 14, 300, 2954, 2603, 97, 0, 0, 0]\n",
            "[13, 0, 400, 6859, 6944, 479, 2, 1154, 1088, 1, 400, 5771, 5678, 301, 2, 414, 397, 2, 400, 5374, 5235, 254, 1, 218, 211, 3, 400, 5163, 4999, 229, 1, 116, 113, 4, 400, 5050, 4875, 218, 1, 64, 63, 5, 400, 4987, 4809, 215, 1, 33, 33, 6, 400, 4954, 4776, 215, 1, 20, 20, 7, 400, 4934, 4756, 215, 1, 15, 15, 8, 400, 4919, 4741, 215, 1, 17, 17, 9, 400, 4902, 4723, 214, 1, 16, 16, 10, 400, 4886, 4706, 213, 1, 11, 11, 11, 400, 4875, 4693, 211, 1, 7, 7, 12, 400, 4868, 4685, 210, 1, 1, 1, 13, 400, 4867, 4684, 210, 1, 0, 0]\n",
            "[22, 0, 500, 9476, 9191, 487, 2, 1716, 1602, 1, 500, 7874, 7399, 296, 1, 610, 580, 2, 500, 7294, 6756, 233, 1, 308, 299, 3, 500, 6995, 6431, 207, 1, 164, 163, 4, 500, 6832, 6260, 199, 1, 104, 101, 5, 500, 6731, 6147, 186, 0, 63, 61, 6, 500, 6670, 6082, 182, 0, 57, 55, 7, 500, 6615, 6022, 177, 0, 41, 40, 8, 500, 6575, 5980, 175, 0, 23, 23, 9, 500, 6552, 5957, 175, 0, 12, 12, 10, 500, 6540, 5944, 174, 0, 6, 6, 11, 500, 6534, 5937, 173, 0, 2, 2, 12, 500, 6532, 5935, 173, 0, 2, 2, 13, 500, 6530, 5933, 173, 0, 1, 1, 14, 500, 6529, 5932, 173, 0, 1, 1, 15, 500, 6528, 5931, 173, 0, 2, 2, 16, 500, 6526, 5929, 173, 0, 2, 2, 17, 500, 6524, 5927, 173, 0, 4, 4, 18, 500, 6520, 5922, 172, 0, 2, 2, 19, 500, 6518, 5920, 172, 0, 1, 1, 20, 500, 6517, 5919, 172, 0, 1, 1, 21, 500, 6516, 5918, 172, 0, 1, 1, 22, 500, 6515, 5917, 172, 0, 0, 0]\n"
          ]
        }
      ],
      "source": [
        "c=1.7\n",
        "n= 100\n",
        "while n <= 500:\n",
        "  G = randgraph(n,c)\n",
        "  print(ECORE(G))\n",
        "  n += 100"
      ]
    },
    {
      "cell_type": "code",
      "execution_count": null,
      "metadata": {
        "colab": {
          "background_save": true,
          "base_uri": "https://localhost:8080/"
        },
        "id": "7v72BpsFNYWM",
        "outputId": "a44e3d02-268a-4329-ba71-8799d7b24e2d"
      },
      "outputs": [
        {
          "name": "stdout",
          "output_type": "stream",
          "text": [
            "100\n",
            "200\n",
            "300\n",
            "400\n",
            "500\n",
            "600\n",
            "700\n",
            "800\n",
            "900\n",
            "1000\n",
            "1100\n",
            "1200\n",
            "1300\n",
            "1400\n",
            "1500\n",
            "1600\n",
            "1700\n",
            "1800\n",
            "1900\n",
            "2000\n",
            "2100\n",
            "2200\n",
            "2300\n",
            "2400\n",
            "2500\n",
            "2600\n",
            "2700\n",
            "2800\n",
            "2900\n"
          ]
        }
      ],
      "source": [
        "# Parameters\n",
        "c = 1.7\n",
        "n = 100\n",
        "\n",
        "# Writing to CSV file\n",
        "csv_filename = \"edgecol_output_data2nd.csv\"\n",
        "\n",
        "with open(csv_filename, mode='w', newline='') as file:\n",
        "    writer = csv.writer(file)\n",
        "\n",
        "    # Write header\n",
        "    writer.writerow([\"n\", \"maxiter, (maxiter +1)* [itr, n, m, tri, tet, K5, D, E]\"])\n",
        "\n",
        "    while n <= 5000:\n",
        "        G = randgraph(n, c)\n",
        "        result = ECORE(G)\n",
        "\n",
        "        # Write data\n",
        "        writer.writerow([n, result])\n",
        "        print(n)\n",
        "        n += 100\n",
        "\n",
        "print(f\"Output data has been stored in {csv_filename}\")\n"
      ]
    }
  ],
  "metadata": {
    "colab": {
      "provenance": []
    },
    "kernelspec": {
      "display_name": "Python 3",
      "name": "python3"
    },
    "language_info": {
      "name": "python"
    }
  },
  "nbformat": 4,
  "nbformat_minor": 0
}